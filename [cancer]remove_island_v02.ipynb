{
 "cells": [
  {
   "cell_type": "code",
   "execution_count": 1,
   "id": "a2b3fb3a-83d1-454b-a68d-680f55133c42",
   "metadata": {
    "tags": []
   },
   "outputs": [],
   "source": [
    "### Libraries\n",
    "\n",
    "import math, cv2\n",
    "import glob, os, time\n",
    "import zipfile\n",
    "import pickle\n",
    "\n",
    "import pandas as pd\n",
    "import numpy as np\n",
    "import matplotlib.pyplot as plt\n",
    "import seaborn as sns\n",
    "\n",
    "from tqdm import tqdm, trange"
   ]
  },
  {
   "cell_type": "code",
   "execution_count": 2,
   "id": "ac30b346-f68d-44d3-a59e-595d479e8527",
   "metadata": {
    "tags": []
   },
   "outputs": [],
   "source": [
    "# Unzip all files \n",
    "\n",
    "# curiosis_zip = zipfile.ZipFile('/home/data/04_SSD4TB/hwcho/001_cancer/230811_debug_stitching.zip')\n",
    "# tqdm(curiosis_zip.extractall('/home/data/04_SSD4TB/hwcho/001_cancer/230811_debug_stitching/'))\n",
    "\n",
    "# curiosis_zip = zipfile.ZipFile('/home/data/04_SSD4TB/hwcho/001_cancer/230811_debug_stitching/10.zip')\n",
    "# tqdm(curiosis_zip.extractall('/home/data/04_SSD4TB/hwcho/001_cancer/230811_debug_stitching'))\n",
    "\n",
    "# curiosis_zip = zipfile.ZipFile('/home/data/04_SSD4TB/hwcho/001_cancer/230811_debug_stitching/14.zip')\n",
    "# tqdm(curiosis_zip.extractall('/home/data/04_SSD4TB/hwcho/001_cancer/230811_debug_stitching'))"
   ]
  },
  {
   "cell_type": "code",
   "execution_count": 2,
   "id": "a594d38f-0e09-45cc-a659-130d60b23677",
   "metadata": {
    "tags": []
   },
   "outputs": [],
   "source": [
    "# test01  : to filter out the images with 'small tissue included'\n",
    "\n",
    "test01_root = 'home/hwcho/001_cancer/[test]curiosis/230811_debug_stitching/10/'\n",
    "test01_root = '10'"
   ]
  },
  {
   "cell_type": "code",
   "execution_count": 3,
   "id": "b4fa691d-7993-4a30-8028-b55127f5c711",
   "metadata": {
    "tags": []
   },
   "outputs": [
    {
     "data": {
      "text/plain": [
       "['10/ScanArea01', '10/ScanArea05', '10/ScanArea06']"
      ]
     },
     "execution_count": 3,
     "metadata": {},
     "output_type": "execute_result"
    }
   ],
   "source": [
    "scan_areas01 = sorted(glob.glob(os.path.join(test01_root, 'ScanArea**')))\n",
    "scan_areas01"
   ]
  },
  {
   "cell_type": "code",
   "execution_count": 4,
   "id": "ab5b5528-1430-496f-9578-93dc07b2fb24",
   "metadata": {
    "tags": []
   },
   "outputs": [],
   "source": [
    "test02_root = 'home/hwcho/001_cancer/[test]curiosis/230811_debug_stitching/14/'\n",
    "test02_root = '14'"
   ]
  },
  {
   "cell_type": "code",
   "execution_count": 5,
   "id": "fca234e7-f916-4a1a-9134-38f984cc01d7",
   "metadata": {
    "tags": []
   },
   "outputs": [
    {
     "data": {
      "text/plain": [
       "['14/ScanArea01', '14/ScanArea01.zip']"
      ]
     },
     "execution_count": 5,
     "metadata": {},
     "output_type": "execute_result"
    }
   ],
   "source": [
    "scan_areas02 = sorted(glob.glob(os.path.join(test02_root, 'ScanArea**')))\n",
    "scan_areas02"
   ]
  },
  {
   "cell_type": "code",
   "execution_count": 28,
   "id": "8f12c344",
   "metadata": {},
   "outputs": [],
   "source": [
    "class area_filter():\n",
    "    \n",
    "    def __init__(self, tissue_dir, staining_th, area_th):\n",
    "        self.tissue_dir = tissue_dir\n",
    "        self.staining_th = staining_th\n",
    "        self.area_th = area_th\n",
    "    \n",
    "    def _get_tissue_area(self, img_dir):\n",
    "    \n",
    "        img_gray = cv2.imread(img_dir, 0)\n",
    "        _, thr = cv2.threshold(img_gray, self.staining_th, 255, cv2.THRESH_BINARY_INV)\n",
    "        \n",
    "        tissue_area = int(np.sum(thr/255))\n",
    "        total_area = img_gray.shape[0] * img_gray.shape[1]\n",
    "        \n",
    "        self.ratio = tissue_area / total_area\n",
    "\n",
    "    \n",
    "    def get_outarea_index(self, areas):\n",
    "        out_index = []\n",
    "\n",
    "        for area in tqdm(areas) :\n",
    "            area_exclusion = []\n",
    "            area_exclusion.append(area)\n",
    "            test_scan = sorted(glob.glob(os.path.join(area, '**.jpg')))\n",
    "            for idx, scans in enumerate(test_scan):\n",
    "                tissue_ratio = self._get_tissue_area(scans)\n",
    "                if self.ratio < self.area_th:\n",
    "                    area_exclusion.append(idx)\n",
    "            out_index.append(area_exclusion)\n",
    "        \n",
    "        return out_index\n",
    "    \n",
    "    def main(self):\n",
    "        \n",
    "        tissue_areas = sorted(glob.glob(os.path.join(self.tissue_dir, 'ScanArea**')))\n",
    "        tissue_ratio = self.get_outarea_index(tissue_areas)\n",
    "        \n",
    "        return tissue_ratio"
   ]
  },
  {
   "cell_type": "code",
   "execution_count": 29,
   "id": "c4d1ca38",
   "metadata": {},
   "outputs": [],
   "source": [
    "test_class = area_filter(test01_root, 200, 0.5)"
   ]
  },
  {
   "cell_type": "code",
   "execution_count": 31,
   "id": "1bd217ac",
   "metadata": {},
   "outputs": [
    {
     "name": "stdout",
     "output_type": "stream",
     "text": [
      "3\n"
     ]
    },
    {
     "name": "stderr",
     "output_type": "stream",
     "text": [
      "100%|██████████| 3/3 [00:42<00:00, 14.07s/it]\n"
     ]
    }
   ],
   "source": [
    "removing_indexes = test_class.main()"
   ]
  },
  {
   "cell_type": "markdown",
   "id": "a195da37",
   "metadata": {},
   "source": []
  },
  {
   "cell_type": "code",
   "execution_count": 32,
   "id": "dc18f5fb",
   "metadata": {},
   "outputs": [
    {
     "data": {
      "text/plain": [
       "[['10/ScanArea01',\n",
       "  0,\n",
       "  1,\n",
       "  2,\n",
       "  3,\n",
       "  4,\n",
       "  5,\n",
       "  6,\n",
       "  7,\n",
       "  8,\n",
       "  9,\n",
       "  10,\n",
       "  11,\n",
       "  12,\n",
       "  13,\n",
       "  14,\n",
       "  15,\n",
       "  16,\n",
       "  17,\n",
       "  18,\n",
       "  19,\n",
       "  22,\n",
       "  23,\n",
       "  24,\n",
       "  25,\n",
       "  26,\n",
       "  27,\n",
       "  29,\n",
       "  30,\n",
       "  31,\n",
       "  32,\n",
       "  36,\n",
       "  37,\n",
       "  38,\n",
       "  39,\n",
       "  40,\n",
       "  44,\n",
       "  45,\n",
       "  46,\n",
       "  47,\n",
       "  49,\n",
       "  50,\n",
       "  51,\n",
       "  52,\n",
       "  53,\n",
       "  54,\n",
       "  55,\n",
       "  57,\n",
       "  58,\n",
       "  59,\n",
       "  60,\n",
       "  61,\n",
       "  62,\n",
       "  63,\n",
       "  64,\n",
       "  65,\n",
       "  66,\n",
       "  67,\n",
       "  68,\n",
       "  69,\n",
       "  70,\n",
       "  71,\n",
       "  72,\n",
       "  73,\n",
       "  74,\n",
       "  75,\n",
       "  76,\n",
       "  77,\n",
       "  78,\n",
       "  79,\n",
       "  80,\n",
       "  81,\n",
       "  82,\n",
       "  83,\n",
       "  84,\n",
       "  85,\n",
       "  86,\n",
       "  87,\n",
       "  88,\n",
       "  89,\n",
       "  90,\n",
       "  91,\n",
       "  92,\n",
       "  93,\n",
       "  94,\n",
       "  95,\n",
       "  96,\n",
       "  97,\n",
       "  98,\n",
       "  99,\n",
       "  100,\n",
       "  101,\n",
       "  102,\n",
       "  103,\n",
       "  104],\n",
       " ['10/ScanArea05',\n",
       "  0,\n",
       "  1,\n",
       "  2,\n",
       "  3,\n",
       "  4,\n",
       "  5,\n",
       "  6,\n",
       "  7,\n",
       "  8,\n",
       "  9,\n",
       "  10,\n",
       "  11,\n",
       "  12,\n",
       "  13,\n",
       "  14,\n",
       "  16,\n",
       "  17,\n",
       "  18,\n",
       "  19,\n",
       "  22,\n",
       "  23,\n",
       "  24,\n",
       "  25,\n",
       "  26,\n",
       "  27,\n",
       "  29,\n",
       "  30,\n",
       "  31,\n",
       "  36,\n",
       "  37,\n",
       "  38,\n",
       "  39,\n",
       "  40,\n",
       "  41,\n",
       "  44,\n",
       "  45,\n",
       "  46,\n",
       "  47,\n",
       "  48,\n",
       "  49,\n",
       "  50,\n",
       "  51,\n",
       "  52,\n",
       "  53,\n",
       "  54,\n",
       "  55,\n",
       "  56,\n",
       "  57,\n",
       "  58,\n",
       "  59,\n",
       "  60,\n",
       "  61,\n",
       "  62,\n",
       "  63,\n",
       "  64,\n",
       "  65,\n",
       "  66,\n",
       "  67,\n",
       "  68,\n",
       "  69,\n",
       "  70,\n",
       "  71,\n",
       "  72,\n",
       "  73,\n",
       "  74,\n",
       "  75,\n",
       "  76,\n",
       "  77,\n",
       "  78,\n",
       "  79,\n",
       "  80,\n",
       "  81,\n",
       "  82,\n",
       "  83,\n",
       "  84,\n",
       "  85,\n",
       "  86,\n",
       "  87,\n",
       "  88,\n",
       "  89,\n",
       "  90,\n",
       "  91,\n",
       "  92,\n",
       "  93,\n",
       "  94,\n",
       "  95,\n",
       "  96,\n",
       "  97,\n",
       "  98,\n",
       "  99,\n",
       "  100,\n",
       "  101,\n",
       "  102,\n",
       "  103,\n",
       "  104],\n",
       " ['10/ScanArea06',\n",
       "  0,\n",
       "  1,\n",
       "  2,\n",
       "  3,\n",
       "  4,\n",
       "  5,\n",
       "  6,\n",
       "  7,\n",
       "  8,\n",
       "  9,\n",
       "  10,\n",
       "  11,\n",
       "  12,\n",
       "  13,\n",
       "  14,\n",
       "  16,\n",
       "  17,\n",
       "  18,\n",
       "  19,\n",
       "  22,\n",
       "  23,\n",
       "  24,\n",
       "  25,\n",
       "  26,\n",
       "  27,\n",
       "  29,\n",
       "  30,\n",
       "  31,\n",
       "  36,\n",
       "  37,\n",
       "  38,\n",
       "  39,\n",
       "  40,\n",
       "  41,\n",
       "  44,\n",
       "  45,\n",
       "  49,\n",
       "  50,\n",
       "  51,\n",
       "  52,\n",
       "  53,\n",
       "  54,\n",
       "  55,\n",
       "  56,\n",
       "  57,\n",
       "  58,\n",
       "  59,\n",
       "  60,\n",
       "  61,\n",
       "  62,\n",
       "  63,\n",
       "  64,\n",
       "  65,\n",
       "  66,\n",
       "  67,\n",
       "  68,\n",
       "  69,\n",
       "  70,\n",
       "  71,\n",
       "  72,\n",
       "  73,\n",
       "  74,\n",
       "  75,\n",
       "  76,\n",
       "  77,\n",
       "  78,\n",
       "  79,\n",
       "  80,\n",
       "  81,\n",
       "  82,\n",
       "  83,\n",
       "  84,\n",
       "  85,\n",
       "  86,\n",
       "  87,\n",
       "  88,\n",
       "  89,\n",
       "  90,\n",
       "  91,\n",
       "  92,\n",
       "  93,\n",
       "  94,\n",
       "  95,\n",
       "  96,\n",
       "  97,\n",
       "  98,\n",
       "  99,\n",
       "  100,\n",
       "  101,\n",
       "  102,\n",
       "  103,\n",
       "  104]]"
      ]
     },
     "execution_count": 32,
     "metadata": {},
     "output_type": "execute_result"
    }
   ],
   "source": [
    "removing_indexes"
   ]
  },
  {
   "cell_type": "code",
   "execution_count": 18,
   "id": "bc06f920-42b4-4322-8d37-bfe75f89861d",
   "metadata": {
    "tags": []
   },
   "outputs": [
    {
     "name": "stderr",
     "output_type": "stream",
     "text": [
      "100%|████████████████████████████████████████████████████████████| 3/3 [00:39<00:00, 13.21s/it]\n",
      "100%|████████████████████████████████████████████████████████████| 3/3 [00:39<00:00, 13.13s/it]\n",
      "100%|████████████████████████████████████████████████████████████| 3/3 [00:39<00:00, 13.20s/it]\n",
      "100%|████████████████████████████████████████████████████████████| 3/3 [00:39<00:00, 13.08s/it]\n"
     ]
    }
   ],
   "source": [
    "# tissue10_ratio35 = get_outarea_index(scan_areas01, 0.35)\n",
    "# tissue10_ratio30 = get_outarea_index(scan_areas01, 0.30)\n",
    "# tissue10_ratio25 = get_outarea_index(scan_areas01, 0.25)\n",
    "\n",
    "tissue10_ratio05 = get_outarea_index(scan_areas01, 0.05)\n",
    "tissue10_ratio07 = get_outarea_index(scan_areas01, 0.07)\n",
    "tissue10_ratio10 = get_outarea_index(scan_areas01, 0.10)\n",
    "tissue10_ratio15 = get_outarea_index(scan_areas01, 0.15)"
   ]
  },
  {
   "cell_type": "code",
   "execution_count": 22,
   "id": "3a01f037-888b-497e-8d42-94ae6bf3a8f3",
   "metadata": {
    "tags": []
   },
   "outputs": [],
   "source": [
    "with open('tissue10_ratio05.pkl', 'wb') as f:\n",
    "    pickle.dump(tissue10_ratio05, f)\n",
    "with open('tissue10_ratio07.pkl', 'wb') as f:\n",
    "    pickle.dump(tissue10_ratio07, f)\n",
    "with open('tissue10_ratio10.pkl', 'wb') as f:\n",
    "    pickle.dump(tissue10_ratio10, f)\n",
    "with open('tissue10_ratio15.pkl', 'wb') as f:\n",
    "    pickle.dump(tissue10_ratio15, f)"
   ]
  },
  {
   "cell_type": "code",
   "execution_count": null,
   "id": "61ef3b4a-d21c-4686-9088-cfcb34a9c55c",
   "metadata": {
    "tags": []
   },
   "outputs": [],
   "source": [
    "# tissue14_ratio35 = get_outarea_index(scan_areas02, 0.35)\n",
    "# tissue14_ratio30 = get_outarea_index(scan_areas02, 0.30)\n",
    "# tissue14_ratio25 = get_outarea_index(scan_areas02, 0.25)\n",
    "\n",
    "tissue14_ratio05 = get_outarea_index(scan_areas02, 0.05)\n",
    "tissue14_ratio07 = get_outarea_index(scan_areas02, 0.07)\n",
    "tissue14_ratio10 = get_outarea_index(scan_areas02, 0.10)\n",
    "tissue14_ratio15 = get_outarea_index(scan_areas02, 0.15)"
   ]
  },
  {
   "cell_type": "code",
   "execution_count": null,
   "id": "ca6ff0ea-245b-407a-b5fe-92a364d71594",
   "metadata": {
    "tags": []
   },
   "outputs": [],
   "source": [
    "with open('tissue14_ratio05.pkl', 'wb') as f:\n",
    "    pickle.dump(tissue14_ratio05, f)\n",
    "with open('tissue14_ratio07.pkl', 'wb') as f:\n",
    "    pickle.dump(tissue14_ratio07, f)\n",
    "with open('tissue14_ratio10.pkl', 'wb') as f:\n",
    "    pickle.dump(tissue14_ratio10, f)\n",
    "with open('tissue14_ratio15.pkl', 'wb') as f:\n",
    "    pickle.dump(tissue14_ratio15, f)"
   ]
  },
  {
   "cell_type": "code",
   "execution_count": null,
   "id": "478bcbf3-2eca-4fc5-b625-c36873631af9",
   "metadata": {},
   "outputs": [],
   "source": []
  }
 ],
 "metadata": {
  "kernelspec": {
   "display_name": "Python 3 (ipykernel)",
   "language": "python",
   "name": "python3"
  },
  "language_info": {
   "codemirror_mode": {
    "name": "ipython",
    "version": 3
   },
   "file_extension": ".py",
   "mimetype": "text/x-python",
   "name": "python",
   "nbconvert_exporter": "python",
   "pygments_lexer": "ipython3",
   "version": "3.11.4"
  }
 },
 "nbformat": 4,
 "nbformat_minor": 5
}
