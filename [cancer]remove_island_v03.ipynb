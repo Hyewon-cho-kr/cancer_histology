{
 "cells": [
  {
   "cell_type": "code",
   "execution_count": 1,
   "id": "a2b3fb3a-83d1-454b-a68d-680f55133c42",
   "metadata": {
    "tags": []
   },
   "outputs": [],
   "source": [
    "### Libraries\n",
    "\n",
    "import cv2\n",
    "import glob, os\n",
    "import numpy as np\n",
    "from tqdm import tqdm\n",
    "\n",
    "from area_filter import *"
   ]
  },
  {
   "cell_type": "code",
   "execution_count": 3,
   "id": "a594d38f-0e09-45cc-a659-130d60b23677",
   "metadata": {
    "tags": []
   },
   "outputs": [],
   "source": [
    "# test01  : to filter out the images with 'small tissue included'\n",
    "\n",
    "# test01_root = '/home/hwcho/001_cancer/[test]curiosis/230811_debug_stitching/10'\n",
    "test01_root = '10'"
   ]
  },
  {
   "cell_type": "code",
   "execution_count": 4,
   "id": "c4d1ca38",
   "metadata": {},
   "outputs": [
    {
     "name": "stderr",
     "output_type": "stream",
     "text": [
      "100%|██████████| 3/3 [00:41<00:00, 13.92s/it]\n"
     ]
    }
   ],
   "source": [
    "test_class = area_filter(test01_root, 200, 0.06) # Directory, H&E staining object thresholding, tissue_area thresholding\n",
    "removing_indexes = test_class.main()"
   ]
  },
  {
   "cell_type": "markdown",
   "id": "a195da37",
   "metadata": {},
   "source": [
    "If you want to save the indexes in pickle format..."
   ]
  },
  {
   "cell_type": "code",
   "execution_count": 22,
   "id": "3a01f037-888b-497e-8d42-94ae6bf3a8f3",
   "metadata": {
    "tags": []
   },
   "outputs": [],
   "source": [
    "import pickle\n",
    "\n",
    "with open('tissue10_ratio05.pkl', 'wb') as f:\n",
    "    pickle.dump(tissue10_ratio05, f)\n",
    "with open('tissue10_ratio07.pkl', 'wb') as f:\n",
    "    pickle.dump(tissue10_ratio07, f)\n",
    "with open('tissue10_ratio10.pkl', 'wb') as f:\n",
    "    pickle.dump(tissue10_ratio10, f)\n",
    "with open('tissue10_ratio15.pkl', 'wb') as f:\n",
    "    pickle.dump(tissue10_ratio15, f)"
   ]
  }
 ],
 "metadata": {
  "kernelspec": {
   "display_name": "Python 3 (ipykernel)",
   "language": "python",
   "name": "python3"
  },
  "language_info": {
   "codemirror_mode": {
    "name": "ipython",
    "version": 3
   },
   "file_extension": ".py",
   "mimetype": "text/x-python",
   "name": "python",
   "nbconvert_exporter": "python",
   "pygments_lexer": "ipython3",
   "version": "3.11.4"
  }
 },
 "nbformat": 4,
 "nbformat_minor": 5
}
